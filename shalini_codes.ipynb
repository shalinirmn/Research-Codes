{
 "cells": [
  {
   "cell_type": "code",
   "execution_count": 2,
   "id": "f2552257",
   "metadata": {},
   "outputs": [
    {
     "name": "stdout",
     "output_type": "stream",
     "text": [
      "Defaulting to user installation because normal site-packages is not writeable\n",
      "Requirement already satisfied: pandas in c:\\users\\snehil\\appdata\\local\\packages\\pythonsoftwarefoundation.python.3.12_qbz5n2kfra8p0\\localcache\\local-packages\\python312\\site-packages (2.2.2)\n",
      "Requirement already satisfied: numpy>=1.26.0 in c:\\users\\snehil\\appdata\\local\\packages\\pythonsoftwarefoundation.python.3.12_qbz5n2kfra8p0\\localcache\\local-packages\\python312\\site-packages (from pandas) (1.26.4)\n",
      "Requirement already satisfied: python-dateutil>=2.8.2 in c:\\users\\snehil\\appdata\\local\\packages\\pythonsoftwarefoundation.python.3.12_qbz5n2kfra8p0\\localcache\\local-packages\\python312\\site-packages (from pandas) (2.9.0.post0)\n",
      "Requirement already satisfied: pytz>=2020.1 in c:\\users\\snehil\\appdata\\local\\packages\\pythonsoftwarefoundation.python.3.12_qbz5n2kfra8p0\\localcache\\local-packages\\python312\\site-packages (from pandas) (2024.1)\n",
      "Requirement already satisfied: tzdata>=2022.7 in c:\\users\\snehil\\appdata\\local\\packages\\pythonsoftwarefoundation.python.3.12_qbz5n2kfra8p0\\localcache\\local-packages\\python312\\site-packages (from pandas) (2024.1)\n",
      "Requirement already satisfied: six>=1.5 in c:\\users\\snehil\\appdata\\local\\packages\\pythonsoftwarefoundation.python.3.12_qbz5n2kfra8p0\\localcache\\local-packages\\python312\\site-packages (from python-dateutil>=2.8.2->pandas) (1.16.0)\n",
      "Note: you may need to restart the kernel to use updated packages.\n"
     ]
    },
    {
     "name": "stderr",
     "output_type": "stream",
     "text": [
      "\n",
      "[notice] A new release of pip is available: 24.0 -> 24.2\n",
      "[notice] To update, run: C:\\Users\\Snehil\\AppData\\Local\\Microsoft\\WindowsApps\\PythonSoftwareFoundation.Python.3.12_qbz5n2kfra8p0\\python.exe -m pip install --upgrade pip\n"
     ]
    }
   ],
   "source": [
    "pip install pandas"
   ]
  },
  {
   "cell_type": "code",
   "execution_count": 3,
   "id": "3a718cd4",
   "metadata": {},
   "outputs": [],
   "source": [
    "import os\n",
    "import pandas as pd\n",
    "\n",
    "def get_pdb_file_paths(pdb_folder):\n",
    "    pdb_file_paths = []\n",
    "    \n",
    "    # Walk through all directories and subdirectories\n",
    "    for dirpath, dirnames, filenames in os.walk(pdb_folder):\n",
    "        for filename in filenames:\n",
    "            if filename.endswith('.pdb'):\n",
    "                # Construct the full file path and add it to the list\n",
    "                pdb_file_paths.append(os.path.join(dirpath, filename))\n",
    "    \n",
    "    return pdb_file_paths\n",
    "\n",
    "\n",
    "def read_CA_coordinates(file_path):\n",
    "     CA_coords = []\n",
    "     with open(file_path, 'r') as file:\n",
    "         for line in file:\n",
    "             if line.startswith(\"ATOM\") and line[13:15].strip() == \"CA\":\n",
    "                 x = float(line[30:38].strip())\n",
    "                 y = float(line[38:46].strip())\n",
    "                 z = float(line[46:54].strip())\n",
    "                 CA_coords.append((x, y, z))\n",
    "     return CA_coords\n",
    "\n",
    "\n",
    "# def read_CA_coordinates(file_path):\n",
    "#     bug_count = 0\n",
    "#     CA_coords = []\n",
    "    \n",
    "#     with open(file_path, 'r') as file:\n",
    "#         pdb_contents = file.read()\n",
    "#         try:\n",
    "#             for line in pdb_contents.split('\\n'):\n",
    "#                 if line.split()[0] == \"ATOM\":\n",
    "#                     x,y,z = line.split()[6:9]\n",
    "#                     CA_coords.append((float(x), float(y), float(z)))\n",
    "#         except:\n",
    "#             print(line.split())\n",
    "#             print(file_path)\n",
    "\n",
    "#     return CA_coords\n",
    "\n",
    "\n",
    "def calculate_distances(coords):\n",
    "    distances = []\n",
    "    for i in range(1, len(coords)):\n",
    "        x_diff = coords[i][0] - coords[i - 1][0]\n",
    "        y_diff = coords[i][1] - coords[i - 1][1]\n",
    "        z_diff = coords[i][2] - coords[i - 1][2]\n",
    "        distance = (x_diff**2 + y_diff**2 + z_diff**2)**0.5\n",
    "        distances.append(distance)\n",
    "    return distances\n",
    "\n",
    "def calculate_helical_rise(distances):\n",
    "    return sum(distances) / len(distances) if distances else 0\n"
   ]
  },
  {
   "cell_type": "code",
   "execution_count": 4,
   "id": "7272ed5f",
   "metadata": {},
   "outputs": [],
   "source": [
    "# Put your path here\n",
    "\n",
    "pdb_folder = r\"C:\\Users\\Snehil\\OneDrive\\Desktop\\ibab_internship\\batch 2\"\n",
    "pdb_files = get_pdb_file_paths(pdb_folder)\n",
    "\n",
    "# for pdb_file in pdb_files:\n",
    "#     print(pdb_file)"
   ]
  },
  {
   "cell_type": "code",
   "execution_count": 5,
   "id": "e311757e",
   "metadata": {},
   "outputs": [],
   "source": [
    "coordinates = []\n",
    "exceptions = []\n",
    "for i in pdb_files:\n",
    "    try:\n",
    "        coordinates.append(read_CA_coordinates(i))\n",
    "    except:\n",
    "        print(i)\n",
    "        exceptions.append(i)"
   ]
  },
  {
   "cell_type": "code",
   "execution_count": 6,
   "id": "635f6ec2",
   "metadata": {},
   "outputs": [],
   "source": [
    "distances = []\n",
    "for i in coordinates:\n",
    "    distances.append(calculate_distances(i))"
   ]
  },
  {
   "cell_type": "code",
   "execution_count": 7,
   "id": "01b23618",
   "metadata": {},
   "outputs": [],
   "source": [
    "helical_rises = []\n",
    "for i in distances:\n",
    "    helical_rises.append(round(calculate_helical_rise(i),2))"
   ]
  },
  {
   "cell_type": "code",
   "execution_count": 8,
   "id": "fdea6648",
   "metadata": {},
   "outputs": [],
   "source": [
    "helix_names = []\n",
    "\n",
    "for i in pdb_files:\n",
    "        if i not in exceptions:\n",
    "                helix_names.append(i.split('\\\\')[-1].split('.')[0])"
   ]
  },
  {
   "cell_type": "code",
   "execution_count": 9,
   "id": "589b3e67",
   "metadata": {},
   "outputs": [
    {
     "name": "stdout",
     "output_type": "stream",
     "text": [
      "1329 , 1329\n"
     ]
    }
   ],
   "source": [
    "print(f\"{len(helix_names)} , {len(helical_rises)}\")"
   ]
  },
  {
   "cell_type": "code",
   "execution_count": 10,
   "id": "ae91bf6a",
   "metadata": {},
   "outputs": [],
   "source": [
    "output_df = pd.DataFrame({'Helix Name':helix_names,'Helical Rise' : helical_rises,'Index':[i+1 for i in range(len(helix_names))]})\n",
    "output_df = output_df.set_index('Index')"
   ]
  },
  {
   "cell_type": "code",
   "execution_count": 11,
   "id": "ff5df427",
   "metadata": {},
   "outputs": [],
   "source": [
    "file_name = 'shalini_hr_output.txt'\n",
    "\n",
    "output_df.to_csv(file_name,sep ='\\t',index=True)\n"
   ]
  },
  {
   "cell_type": "code",
   "execution_count": 12,
   "id": "b3796ca2",
   "metadata": {},
   "outputs": [
    {
     "data": {
      "text/html": [
       "<div>\n",
       "<style scoped>\n",
       "    .dataframe tbody tr th:only-of-type {\n",
       "        vertical-align: middle;\n",
       "    }\n",
       "\n",
       "    .dataframe tbody tr th {\n",
       "        vertical-align: top;\n",
       "    }\n",
       "\n",
       "    .dataframe thead th {\n",
       "        text-align: right;\n",
       "    }\n",
       "</style>\n",
       "<table border=\"1\" class=\"dataframe\">\n",
       "  <thead>\n",
       "    <tr style=\"text-align: right;\">\n",
       "      <th></th>\n",
       "      <th>Helix Name</th>\n",
       "      <th>Helical Rise</th>\n",
       "    </tr>\n",
       "    <tr>\n",
       "      <th>Index</th>\n",
       "      <th></th>\n",
       "      <th></th>\n",
       "    </tr>\n",
       "  </thead>\n",
       "  <tbody>\n",
       "    <tr>\n",
       "      <th>1</th>\n",
       "      <td>helix_1</td>\n",
       "      <td>3.81</td>\n",
       "    </tr>\n",
       "    <tr>\n",
       "      <th>2</th>\n",
       "      <td>helix_2</td>\n",
       "      <td>3.81</td>\n",
       "    </tr>\n",
       "    <tr>\n",
       "      <th>3</th>\n",
       "      <td>helix_3</td>\n",
       "      <td>3.81</td>\n",
       "    </tr>\n",
       "    <tr>\n",
       "      <th>4</th>\n",
       "      <td>helix_4</td>\n",
       "      <td>3.80</td>\n",
       "    </tr>\n",
       "    <tr>\n",
       "      <th>5</th>\n",
       "      <td>helix_5</td>\n",
       "      <td>3.81</td>\n",
       "    </tr>\n",
       "    <tr>\n",
       "      <th>...</th>\n",
       "      <td>...</td>\n",
       "      <td>...</td>\n",
       "    </tr>\n",
       "    <tr>\n",
       "      <th>1325</th>\n",
       "      <td>helix_5</td>\n",
       "      <td>3.81</td>\n",
       "    </tr>\n",
       "    <tr>\n",
       "      <th>1326</th>\n",
       "      <td>helix_6</td>\n",
       "      <td>3.82</td>\n",
       "    </tr>\n",
       "    <tr>\n",
       "      <th>1327</th>\n",
       "      <td>helix_7</td>\n",
       "      <td>3.81</td>\n",
       "    </tr>\n",
       "    <tr>\n",
       "      <th>1328</th>\n",
       "      <td>helix_8</td>\n",
       "      <td>3.81</td>\n",
       "    </tr>\n",
       "    <tr>\n",
       "      <th>1329</th>\n",
       "      <td>helix_9</td>\n",
       "      <td>3.81</td>\n",
       "    </tr>\n",
       "  </tbody>\n",
       "</table>\n",
       "<p>1329 rows × 2 columns</p>\n",
       "</div>"
      ],
      "text/plain": [
       "      Helix Name  Helical Rise\n",
       "Index                         \n",
       "1        helix_1          3.81\n",
       "2        helix_2          3.81\n",
       "3        helix_3          3.81\n",
       "4        helix_4          3.80\n",
       "5        helix_5          3.81\n",
       "...          ...           ...\n",
       "1325     helix_5          3.81\n",
       "1326     helix_6          3.82\n",
       "1327     helix_7          3.81\n",
       "1328     helix_8          3.81\n",
       "1329     helix_9          3.81\n",
       "\n",
       "[1329 rows x 2 columns]"
      ]
     },
     "execution_count": 12,
     "metadata": {},
     "output_type": "execute_result"
    }
   ],
   "source": [
    "output_df"
   ]
  },
  {
   "cell_type": "code",
   "execution_count": 13,
   "id": "28ca6434",
   "metadata": {},
   "outputs": [
    {
     "name": "stdout",
     "output_type": "stream",
     "text": [
      "      Helix Name  Helical Rise\n",
      "Index                         \n",
      "1        helix_1          3.81\n",
      "2        helix_2          3.81\n",
      "3        helix_3          3.81\n",
      "4        helix_4          3.80\n",
      "5        helix_5          3.81\n",
      "...          ...           ...\n",
      "1325     helix_5          3.81\n",
      "1326     helix_6          3.82\n",
      "1327     helix_7          3.81\n",
      "1328     helix_8          3.81\n",
      "1329     helix_9          3.81\n",
      "\n",
      "[1329 rows x 2 columns]\n"
     ]
    }
   ],
   "source": [
    "print(output_df)"
   ]
  },
  {
   "cell_type": "code",
   "execution_count": 16,
   "id": "7d652875",
   "metadata": {},
   "outputs": [],
   "source": [
    "data = helical_rises"
   ]
  },
  {
   "cell_type": "code",
   "execution_count": 18,
   "id": "72bec9ea",
   "metadata": {},
   "outputs": [
    {
     "name": "stdout",
     "output_type": "stream",
     "text": [
      "Defaulting to user installation because normal site-packages is not writeable\n",
      "Requirement already satisfied: plotly in c:\\users\\snehil\\appdata\\local\\packages\\pythonsoftwarefoundation.python.3.12_qbz5n2kfra8p0\\localcache\\local-packages\\python312\\site-packages (5.23.0)\n",
      "Requirement already satisfied: tenacity>=6.2.0 in c:\\users\\snehil\\appdata\\local\\packages\\pythonsoftwarefoundation.python.3.12_qbz5n2kfra8p0\\localcache\\local-packages\\python312\\site-packages (from plotly) (8.5.0)\n",
      "Requirement already satisfied: packaging in c:\\users\\snehil\\appdata\\local\\packages\\pythonsoftwarefoundation.python.3.12_qbz5n2kfra8p0\\localcache\\local-packages\\python312\\site-packages (from plotly) (24.1)\n",
      "Note: you may need to restart the kernel to use updated packages.\n"
     ]
    },
    {
     "name": "stderr",
     "output_type": "stream",
     "text": [
      "\n",
      "[notice] A new release of pip is available: 24.0 -> 24.2\n",
      "[notice] To update, run: C:\\Users\\Snehil\\AppData\\Local\\Microsoft\\WindowsApps\\PythonSoftwareFoundation.Python.3.12_qbz5n2kfra8p0\\python.exe -m pip install --upgrade pip\n"
     ]
    }
   ],
   "source": [
    "pip install plotly\n"
   ]
  },
  {
   "cell_type": "code",
   "execution_count": 19,
   "id": "ad82e573",
   "metadata": {},
   "outputs": [
    {
     "name": "stdout",
     "output_type": "stream",
     "text": [
      "Defaulting to user installation because normal site-packages is not writeable\n",
      "Requirement already satisfied: nbformat in c:\\users\\snehil\\appdata\\local\\packages\\pythonsoftwarefoundation.python.3.12_qbz5n2kfra8p0\\localcache\\local-packages\\python312\\site-packages (5.10.4)\n",
      "Requirement already satisfied: fastjsonschema>=2.15 in c:\\users\\snehil\\appdata\\local\\packages\\pythonsoftwarefoundation.python.3.12_qbz5n2kfra8p0\\localcache\\local-packages\\python312\\site-packages (from nbformat) (2.20.0)\n",
      "Requirement already satisfied: jsonschema>=2.6 in c:\\users\\snehil\\appdata\\local\\packages\\pythonsoftwarefoundation.python.3.12_qbz5n2kfra8p0\\localcache\\local-packages\\python312\\site-packages (from nbformat) (4.23.0)\n",
      "Requirement already satisfied: jupyter-core!=5.0.*,>=4.12 in c:\\users\\snehil\\appdata\\local\\packages\\pythonsoftwarefoundation.python.3.12_qbz5n2kfra8p0\\localcache\\local-packages\\python312\\site-packages (from nbformat) (5.7.2)\n",
      "Requirement already satisfied: traitlets>=5.1 in c:\\users\\snehil\\appdata\\local\\packages\\pythonsoftwarefoundation.python.3.12_qbz5n2kfra8p0\\localcache\\local-packages\\python312\\site-packages (from nbformat) (5.14.3)\n",
      "Requirement already satisfied: attrs>=22.2.0 in c:\\users\\snehil\\appdata\\local\\packages\\pythonsoftwarefoundation.python.3.12_qbz5n2kfra8p0\\localcache\\local-packages\\python312\\site-packages (from jsonschema>=2.6->nbformat) (23.2.0)\n",
      "Requirement already satisfied: jsonschema-specifications>=2023.03.6 in c:\\users\\snehil\\appdata\\local\\packages\\pythonsoftwarefoundation.python.3.12_qbz5n2kfra8p0\\localcache\\local-packages\\python312\\site-packages (from jsonschema>=2.6->nbformat) (2023.12.1)\n",
      "Requirement already satisfied: referencing>=0.28.4 in c:\\users\\snehil\\appdata\\local\\packages\\pythonsoftwarefoundation.python.3.12_qbz5n2kfra8p0\\localcache\\local-packages\\python312\\site-packages (from jsonschema>=2.6->nbformat) (0.35.1)\n",
      "Requirement already satisfied: rpds-py>=0.7.1 in c:\\users\\snehil\\appdata\\local\\packages\\pythonsoftwarefoundation.python.3.12_qbz5n2kfra8p0\\localcache\\local-packages\\python312\\site-packages (from jsonschema>=2.6->nbformat) (0.19.1)\n",
      "Requirement already satisfied: platformdirs>=2.5 in c:\\users\\snehil\\appdata\\local\\packages\\pythonsoftwarefoundation.python.3.12_qbz5n2kfra8p0\\localcache\\local-packages\\python312\\site-packages (from jupyter-core!=5.0.*,>=4.12->nbformat) (4.2.2)\n",
      "Requirement already satisfied: pywin32>=300 in c:\\users\\snehil\\appdata\\local\\packages\\pythonsoftwarefoundation.python.3.12_qbz5n2kfra8p0\\localcache\\local-packages\\python312\\site-packages (from jupyter-core!=5.0.*,>=4.12->nbformat) (306)\n",
      "Note: you may need to restart the kernel to use updated packages.\n"
     ]
    },
    {
     "name": "stderr",
     "output_type": "stream",
     "text": [
      "\n",
      "[notice] A new release of pip is available: 24.0 -> 24.2\n",
      "[notice] To update, run: C:\\Users\\Snehil\\AppData\\Local\\Microsoft\\WindowsApps\\PythonSoftwareFoundation.Python.3.12_qbz5n2kfra8p0\\python.exe -m pip install --upgrade pip\n"
     ]
    }
   ],
   "source": [
    "pip install nbformat --upgrade\n"
   ]
  },
  {
   "cell_type": "code",
   "execution_count": 20,
   "id": "db5d4104",
   "metadata": {},
   "outputs": [],
   "source": [
    "# from bokeh.plotting import figure, show, output_file\n",
    "# from bokeh.io import push_notebook\n",
    "# from bokeh.transform import jitter\n",
    "\n",
    "# # Sample data\n",
    "# data = helical_rises\n",
    "\n",
    "# # Create histogram\n",
    "# hist, edges = np.histogram(data, bins=5)\n",
    "\n",
    "# p = figure(title=\"Histogram of Helical Rises\", background_fill_color=\"#fafafa\")\n",
    "# p.quad(top=hist, bottom=0, left=edges[:-1], right=edges[1:], \n",
    "#        fill_color=\"skyblue\", line_color=\"black\", line_width=2)\n",
    "\n",
    "# # Add titles and labels\n",
    "# p.xaxis.axis_label = 'Helical Names'\n",
    "# p.yaxis.axis_label = 'Helical Rises'\n",
    "\n",
    "# # Output the plot\n",
    "# output_file(\"histogram.html\")\n",
    "# show(p)\n"
   ]
  },
  {
   "cell_type": "code",
   "execution_count": 21,
   "id": "378fd495",
   "metadata": {},
   "outputs": [
    {
     "data": {
      "image/png": "[encoded data removed]",
      "text/plain": [
       "<Figure size 640x480 with 1 Axes>"
      ]
     },
     "metadata": {},
     "output_type": "display_data"
    }
   ],
   "source": [
    "import matplotlib.pyplot as plt\n",
    "\n",
    "# Sample data\n",
    "data = helical_rises\n",
    "\n",
    "# Create histogram\n",
    "plt.hist(data, bins=40, edgecolor='black')\n",
    "\n",
    "# Add title and labels\n",
    "plt.title('Alpha Helical Rises(40) bins')\n",
    "plt.xlabel('Helical Rises')\n",
    "plt.ylabel('Helix names')\n",
    "\n",
    "# Show plot\n",
    "plt.show()\n"
   ]
  }
 ],
 "metadata": {
  "kernelspec": {
   "display_name": "Python 3 (ipykernel)",
   "language": "python",
   "name": "python3"
  },
  "language_info": {
   "codemirror_mode": {
    "name": "ipython",
    "version": 3
   },
   "file_extension": ".py",
   "mimetype": "text/x-python",
   "name": "python",
   "nbconvert_exporter": "python",
   "pygments_lexer": "ipython3",
   "version": "3.12.4"
  }
 },
 "nbformat": 4,
 "nbformat_minor": 5
}
